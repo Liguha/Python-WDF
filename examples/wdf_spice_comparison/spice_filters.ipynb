{
 "cells": [
  {
   "cell_type": "code",
   "execution_count": null,
   "id": "70566816",
   "metadata": {},
   "outputs": [],
   "source": [
    "# to run this create new env with PySpice lib at Python 3.10\n",
    "# or you can fuck it and just use generated JSONs in spice folder\n",
    "import json\n",
    "import numpy as np\n",
    "from pathlib import Path\n",
    "from PySpice.Spice.Netlist import Circuit\n",
    "from PySpice.Unit import *"
   ]
  },
  {
   "cell_type": "code",
   "execution_count": null,
   "id": "4ed49ceb",
   "metadata": {},
   "outputs": [],
   "source": [
    "def save_to_file(path: Path, freqs: np.ndarray, gains: np.ndarray) -> None:\n",
    "    path.parent.mkdir(parents=True, exist_ok=True)\n",
    "    path.touch()\n",
    "    with path.open(\"w\") as file:\n",
    "        freqs = [float(x) for x in freqs]\n",
    "        gains = [float(x) for x in gains]\n",
    "        json.dump({\"freqs\": freqs, \"gains\": gains}, file)"
   ]
  },
  {
   "cell_type": "code",
   "execution_count": null,
   "id": "5667d51b",
   "metadata": {},
   "outputs": [],
   "source": [
    "circuit = Circuit(\"Bassman tone stack\")\n",
    "\n",
    "circuit.SinusoidalVoltageSource(1, \"v_in\", circuit.gnd, amplitude=1@u_V)\n",
    "circuit.C(1, \"v_in\", \"1\", 0.25@u_nF)\n",
    "circuit.R(1, \"1\", \"out\", 125.0@u_kΩ)\n",
    "circuit.R(2, \"out\", \"4\", 125.0@u_kΩ)\n",
    "circuit.R(3, \"v_in\", \"3\", 56.0@u_kΩ)\n",
    "circuit.C(2, \"3\", \"4\", 20.0@u_nF)\n",
    "circuit.C(3, \"3\", \"6\", 20.0@u_nF)\n",
    "circuit.R(4, \"4\", \"5\", 0.5@u_MΩ)\n",
    "circuit.R(5, \"5\", \"6\", 12.5@u_kΩ)\n",
    "circuit.R(6, \"6\", circuit.gnd, 12.5@u_kΩ)\n",
    "\n",
    "simulator = circuit.simulator(temperature=25, nominal_temperature=25)\n",
    "# simulate with transfering chirp signal\n",
    "analysis = simulator.ac(start_frequency=1@u_Hz, stop_frequency=10@u_kHz, number_of_points=100,  variation=\"dec\")\n",
    "out = np.array(analysis.out)\n",
    "save_to_file(Path(\"./spice/bassman.json\"), analysis.frequency, 20 * np.log10(np.abs(out)))"
   ]
  },
  {
   "cell_type": "code",
   "execution_count": null,
   "id": "71c7ec3c",
   "metadata": {},
   "outputs": [],
   "source": [
    "circuit = Circuit(\"Double-pole RLC lowpass\")\n",
    "\n",
    "circuit.SinusoidalVoltageSource(1, \"v_in\", circuit.gnd, amplitude=1@u_V)\n",
    "circuit.R(1, \"v_in\", \"2\", 25@u_Ω)\n",
    "circuit.L(1, \"2\", \"out\", 10@u_mH)\n",
    "circuit.C(1, \"out\", circuit.gnd, 1@u_uF)\n",
    "\n",
    "simulator = circuit.simulator(temperature=25, nominal_temperature=25)\n",
    "# simulate with transfering chirp signal\n",
    "analysis = simulator.ac(start_frequency=1@u_Hz, stop_frequency=10@u_kHz, number_of_points=100,  variation=\"dec\")\n",
    "out = np.array(analysis.out)\n",
    "save_to_file(Path(\"./spice/rlc_lowpass.json\"), analysis.frequency, 20 * np.log10(np.abs(out)))"
   ]
  },
  {
   "cell_type": "code",
   "execution_count": null,
   "id": "3a10b530",
   "metadata": {},
   "outputs": [],
   "source": [
    "circuit = Circuit(\"Bridged-T bandstop\")\n",
    "\n",
    "circuit.SinusoidalVoltageSource(1, \"v_in\", circuit.gnd, amplitude=1@u_V)\n",
    "circuit.R(1, circuit.gnd, \"2\", 53.8@u_kΩ)\n",
    "circuit.R(2, \"v_in\", \"out\", 1@u_MΩ)\n",
    "circuit.C(1, \"v_in\", \"2\", 15@u_nF)\n",
    "circuit.C(2, \"2\", \"out\", 15@u_nF)\n",
    "circuit.R(3, circuit.gnd, \"out\", 1@u_MΩ)\n",
    "\n",
    "simulator = circuit.simulator(temperature=25, nominal_temperature=25)\n",
    "# simulate with transfering chirp signal\n",
    "analysis = simulator.ac(start_frequency=1@u_Hz, stop_frequency=10@u_kHz, number_of_points=100,  variation=\"dec\")\n",
    "out = np.array(analysis.out)\n",
    "save_to_file(Path(\"./spice/bridgedt_bandstop.json\"), analysis.frequency, 20 * np.log10(np.abs(out)))"
   ]
  }
 ],
 "metadata": {
  "kernelspec": {
   "display_name": "spice",
   "language": "python",
   "name": "python3"
  },
  "language_info": {
   "codemirror_mode": {
    "name": "ipython",
    "version": 3
   },
   "file_extension": ".py",
   "mimetype": "text/x-python",
   "name": "python",
   "nbconvert_exporter": "python",
   "pygments_lexer": "ipython3",
   "version": "3.10.17"
  }
 },
 "nbformat": 4,
 "nbformat_minor": 5
}
